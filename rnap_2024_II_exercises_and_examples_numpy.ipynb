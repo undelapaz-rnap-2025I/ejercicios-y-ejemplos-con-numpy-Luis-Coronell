{
  "cells": [
    {
      "cell_type": "markdown",
      "metadata": {
        "id": "z9dathS_lkMu"
      },
      "source": [
        "# Learning and practicing NumPy with examples and exercises"
      ]
    },
    {
      "cell_type": "code",
      "execution_count": 86,
      "metadata": {
        "id": "JrciqVNelazN"
      },
      "outputs": [
        {
          "name": "stdout",
          "output_type": "stream",
          "text": [
            "30\n"
          ]
        }
      ],
      "source": [
        "#Indexación básica\n",
        "#Se accede al tercer elemento del arreglo (índice 2, ya que se empieza a contar desde 0), que es 30.\n",
        "import numpy as np \n",
        "arr = np.array([10, 20, 30, 40, 50])\n",
        "print(arr[2])  # Salida: 30\n"
      ]
    },
    {
      "cell_type": "code",
      "execution_count": 87,
      "metadata": {},
      "outputs": [
        {
          "name": "stdout",
          "output_type": "stream",
          "text": [
            "[20 30 40]\n"
          ]
        }
      ],
      "source": [
        "# Segmentación\n",
        "# Se obtiene una porción del arreglo desde el índice 1 (incluido) hasta el 4 (excluido)\n",
        "arr = np.array([10, 20, 30, 40, 50])\n",
        "print(arr[1:4])  # Salida: [20 30 40]"
      ]
    },
    {
      "cell_type": "code",
      "execution_count": 88,
      "metadata": {},
      "outputs": [
        {
          "name": "stdout",
          "output_type": "stream",
          "text": [
            "6\n"
          ]
        }
      ],
      "source": [
        "# Indexación de arreglos 2D\n",
        "# Se accede al elemento que está en la fila 1 y columna 2 del arreglo\n",
        "\n",
        "arr = np.array([[1, 2, 3], [4, 5, 6], [7, 8, 9]])\n",
        "print(arr[1, 2])  # Salida: 6\n"
      ]
    },
    {
      "cell_type": "code",
      "execution_count": 89,
      "metadata": {},
      "outputs": [
        {
          "name": "stdout",
          "output_type": "stream",
          "text": [
            "[[2 3]\n",
            " [5 6]]\n"
          ]
        }
      ],
      "source": [
        "# Segmentación de arreglos 2D\n",
        "# Se seleccionan las filas desde la 0 hasta la 1 (el 2 no se incluye) y las columnas desde la 1 en adelante\n",
        "\n",
        "arr = np.array([[1, 2, 3], [4, 5, 6], [7, 8, 9]])\n",
        "print(arr[:2, 1:])  # Salida: [[2 3] [5 6]]\n"
      ]
    },
    {
      "cell_type": "code",
      "execution_count": 90,
      "metadata": {},
      "outputs": [
        {
          "name": "stdout",
          "output_type": "stream",
          "text": [
            "9\n",
            "[[ 7  8  9]\n",
            " [10 11 12]]\n"
          ]
        }
      ],
      "source": [
        "# Indexación de tensores 3D\n",
        "\n",
        "tensor = np.array([\n",
        "    [[1, 2, 3], [4, 5, 6]],\n",
        "    [[7, 8, 9], [10, 11, 12]],\n",
        "    [[13, 14, 15], [16, 17, 18]]\n",
        "])\n",
        "\n",
        "# Acceder a elementos específicos\n",
        "print(tensor[1, 0, 2])  # Salida: 9\n",
        "\n",
        "# Acceder al tensor completo (submatriz 2D)\n",
        "print(tensor[1])  # Salida: [[ 7  8  9]\n",
        "                  #          [10 11 12]]\n"
      ]
    },
    {
      "cell_type": "code",
      "execution_count": 91,
      "metadata": {},
      "outputs": [
        {
          "name": "stdout",
          "output_type": "stream",
          "text": [
            "Segundo bloque completo (3x3): [[ 9 10 11]\n",
            " [12 13 14]\n",
            " [15 16 17]]\n",
            "Segunda fila de todos los bloques: [[ 3  4  5]\n",
            " [12 13 14]\n",
            " [21 22 23]]\n",
            "Tercera columna de todos los bloques [[ 2  5  8]\n",
            " [11 14 17]\n",
            " [20 23 26]]\n"
          ]
        }
      ],
      "source": [
        "# Segmentación de un tensor 3D\n",
        "tensor = np.arange(27).reshape(3, 3, 3) # np.arange(27) genera los números del 0 al 26\n",
        "                                        # .reshape(3, 3, 3) los organiza en un tensor 3D con forma (3 bloques, 3 filas, 3 columnas)\n",
        "\n",
        "print('Segundo bloque completo (3x3):', tensor[1]) # Segundo bloque completo (3x3)\n",
        "\n",
        "print('Segunda fila de todos los bloques:',tensor[:, 1, :]) #Segunda fila de todos los bloques\n",
        "\n",
        "print('Tercera columna de todos los bloques',tensor[:, :, 2]) # Tercera columna de todos los bloques"
      ]
    },
    {
      "cell_type": "code",
      "execution_count": 92,
      "metadata": {},
      "outputs": [
        {
          "name": "stdout",
          "output_type": "stream",
          "text": [
            "Selecciona un elemento especifico: 43\n",
            "Selecciona bloque y matriz [[40 41 42 43]\n",
            " [44 45 46 47]]\n"
          ]
        }
      ],
      "source": [
        "# Indexación de un tensor 4D\n",
        "tensor = np.arange(48).reshape(2, 3, 2, 4) # Cre un tensor con la siguiente forma:\n",
        "# 2 bloques, 3 matrices por bloque, 2 filas por matriz, 4 columnas por fila\n",
        "print('Selecciona un elemento especifico:',tensor[1, 2, 0, 3]) # Primer numero bloque, Segundo Matriz, tercero filas y cuarto columnas\n",
        "print('Selecciona bloque y matriz',tensor[1, 2]) #Selecciona el bloque y la matrices"
      ]
    },
    {
      "cell_type": "code",
      "execution_count": 93,
      "metadata": {},
      "outputs": [
        {
          "name": "stdout",
          "output_type": "stream",
          "text": [
            "Selecciona el segundo bloque completo: [[[24 25 26 27]\n",
            "  [28 29 30 31]]\n",
            "\n",
            " [[32 33 34 35]\n",
            "  [36 37 38 39]]\n",
            "\n",
            " [[40 41 42 43]\n",
            "  [44 45 46 47]]]\n",
            "Tercera matriz de todos los bloques: [[[16 17 18 19]\n",
            "  [20 21 22 23]]\n",
            "\n",
            " [[40 41 42 43]\n",
            "  [44 45 46 47]]]\n",
            "Primeras filas de cada matriz: [[[ 0  1  2  3]\n",
            "  [ 8  9 10 11]\n",
            "  [16 17 18 19]]\n",
            "\n",
            " [[24 25 26 27]\n",
            "  [32 33 34 35]\n",
            "  [40 41 42 43]]]\n"
          ]
        }
      ],
      "source": [
        "# Segmentacón de un tensor 4D\n",
        "tensor = np.arange(48).reshape(2, 3, 2, 4)\n",
        "print('Selecciona el segundo bloque completo:',tensor[1]) # Selecciona el segundo bloque completo\n",
        "print('Tercera matriz de todos los bloques:',tensor[:, 2, :, :]) #Tercera matriz de todos los bloques\n",
        "print('Primeras filas de cada matriz:',tensor[:, :, 0, :]) # Primeras filas de cada matriz"
      ]
    },
    {
      "cell_type": "code",
      "execution_count": 94,
      "metadata": {},
      "outputs": [
        {
          "name": "stdout",
          "output_type": "stream",
          "text": [
            "[[ 6  8]\n",
            " [10 12]]\n"
          ]
        }
      ],
      "source": [
        "# Suma de matrices\n",
        "\n",
        "A = np.array([[1, 2], \n",
        "              [3, 4]])\n",
        "\n",
        "B = np.array([[5, 6], \n",
        "              [7, 8]])\n",
        "\n",
        "result = A + B\n",
        "print(result)\n"
      ]
    },
    {
      "cell_type": "code",
      "execution_count": 95,
      "metadata": {},
      "outputs": [
        {
          "name": "stdout",
          "output_type": "stream",
          "text": [
            "[[19 22]\n",
            " [43 50]]\n"
          ]
        }
      ],
      "source": [
        "# Multiplicación de matrices\n",
        "\n",
        "A = np.array([[1, 2], \n",
        "              [3, 4]])\n",
        "\n",
        "B = np.array([[5, 6], \n",
        "              [7, 8]])\n",
        "\n",
        "result = np.dot(A, B) # tambien se puede usar A @ B, para multiplicar matrices\n",
        "print(result)\n"
      ]
    },
    {
      "cell_type": "code",
      "execution_count": 96,
      "metadata": {},
      "outputs": [
        {
          "name": "stdout",
          "output_type": "stream",
          "text": [
            "[[1 3]\n",
            " [2 4]]\n"
          ]
        }
      ],
      "source": [
        "# Transposición de una matriz \n",
        "\n",
        "A = np.array([[1, 2], \n",
        "              [3, 4]])\n",
        "\n",
        "result = np.transpose(A)\n",
        "print(result)\n"
      ]
    },
    {
      "cell_type": "code",
      "execution_count": 97,
      "metadata": {},
      "outputs": [
        {
          "name": "stdout",
          "output_type": "stream",
          "text": [
            "Determinant: -2.0000000000000004\n",
            "Inverse:\n",
            " [[-2.   1. ]\n",
            " [ 1.5 -0.5]]\n"
          ]
        }
      ],
      "source": [
        "# Determinante e Inversa de una matriz\n",
        "\n",
        "A = np.array([[1, 2],\n",
        "              [3, 4]])\n",
        "\n",
        "det = np.linalg.det(A) # Halla el determinante de la matriz\n",
        "inverse = np.linalg.inv(A) # Halla la inversa de la matriz\n",
        "\n",
        "print(\"Determinant:\", det)\n",
        "print(\"Inverse:\\n\", inverse)\n"
      ]
    },
    {
      "cell_type": "code",
      "execution_count": 98,
      "metadata": {},
      "outputs": [
        {
          "name": "stdout",
          "output_type": "stream",
          "text": [
            "Eigenvalues: [2.00000002 1.99999998]\n",
            "Eigenvectors:\n",
            " [[-0.70710677 -0.70710679]\n",
            " [ 0.70710679  0.70710677]]\n"
          ]
        }
      ],
      "source": [
        "# Valores y vectores propios de una matriz \n",
        "\n",
        "A = np.array([[1, -1],\n",
        "              [1,  3]])\n",
        "\n",
        "eigenvalues, eigenvectors = np.linalg.eig(A)\n",
        "\n",
        "print(\"Eigenvalues:\", eigenvalues) # Valores propios\n",
        "print(\"Eigenvectors:\\n\", eigenvectors) # Vectores propios\n"
      ]
    },
    {
      "cell_type": "code",
      "execution_count": 99,
      "metadata": {},
      "outputs": [
        {
          "name": "stdout",
          "output_type": "stream",
          "text": [
            "Solution: [1. 1.]\n"
          ]
        }
      ],
      "source": [
        "# Resolver ecuaciones lineales\n",
        "\n",
        "A = np.array([[2, 1],\n",
        "              [1, 1]])\n",
        "\n",
        "b = np.array([3, 2]) # Este sistema equivale a: 2x + y = 3,  x + y = 2\n",
        "\n",
        "solution = np.linalg.solve(A, b)\n",
        "print(\"Solution:\", solution)\n"
      ]
    },
    {
      "cell_type": "code",
      "execution_count": 100,
      "metadata": {},
      "outputs": [
        {
          "name": "stdout",
          "output_type": "stream",
          "text": [
            "Final theta: [[4.22215108]\n",
            " [2.96846751]]\n"
          ]
        }
      ],
      "source": [
        "# Gradiente Descediente\n",
        "\n",
        "# 1. Generar datos de ejemplo\n",
        "np.random.seed(0)\n",
        "X = 2 * np.random.rand(100, 1)  # 100 muestras, una característica\n",
        "y = 4 + 3 * X + np.random.randn(100, 1)  # y = 4 + 3x + ruido\n",
        "\n",
        "# 2. Agregar término de sesgo (bias)\n",
        "X_b = np.c_[np.ones((100, 1)), X]  # Añade columna de 1's → shape: (100, 2)\n",
        "\n",
        "# 3. Hiperparámetros\n",
        "learning_rate = 0.1\n",
        "n_iterations = 1000\n",
        "\n",
        "# 4. Inicialización de parámetros\n",
        "theta = np.random.randn(2, 1)  # Dos parámetros: theta0 y theta1\n",
        "\n",
        "# 5. Descenso del gradiente\n",
        "for iteration in range(n_iterations):\n",
        "    gradients = 2 / 100 * X_b.T.dot(X_b.dot(theta) - y)\n",
        "    theta = theta - learning_rate * gradients\n",
        "\n",
        "print(\"Final theta:\", theta)\n",
        "\n"
      ]
    },
    {
      "cell_type": "code",
      "execution_count": 101,
      "metadata": {},
      "outputs": [
        {
          "name": "stdout",
          "output_type": "stream",
          "text": [
            "Hello, Ana!\n",
            "12\n"
          ]
        }
      ],
      "source": [
        "# Funciones y clases \n",
        "# Simple función \n",
        "def greet(name):\n",
        "    return \"Hello, \" + name + \"!\"\n",
        "\n",
        "print(greet(\"Ana\"))  # Salida: Hello, Ana!\n",
        "\n",
        "# Function with Parameters and Return\n",
        "\n",
        "def add_numbers(a, b):\n",
        "    sum = a + b\n",
        "    return sum\n",
        "\n",
        "result = add_numbers(5, 7)\n",
        "print(result)  # Salida: 12\n",
        "\n"
      ]
    },
    {
      "cell_type": "code",
      "execution_count": 102,
      "metadata": {},
      "outputs": [
        {
          "name": "stdout",
          "output_type": "stream",
          "text": [
            "9\n",
            "8\n"
          ]
        }
      ],
      "source": [
        "# función con parámetros por defecto\n",
        "def power(base, exponent=2):\n",
        "    return base ** exponent\n",
        "\n",
        "print(power(3))    # base 3 exponente por defecto(2), Salida: 9\n",
        "print(power(2, 3)) #  Aqui base 2 exponente 3, Salida: 8\n"
      ]
    },
    {
      "cell_type": "code",
      "execution_count": 103,
      "metadata": {},
      "outputs": [
        {
          "name": "stdout",
          "output_type": "stream",
          "text": [
            "2 9\n"
          ]
        }
      ],
      "source": [
        "# Función con múltiples retornos\n",
        "def min_max(numbers):  # Define una función llamada min_max que recibe una lista 'numbers'\n",
        "    return min(numbers), max(numbers)  # Retorna dos valores: el mínimo y el máximo de esa lista\n",
        "\n",
        "nums = [4, 9, 2, 7, 5]  # Se crea una lista de números\n",
        "minimum, maximum = min_max(nums)  # Se llama a la función y se asignan los resultados a dos variables: minimum y maximum\n",
        "print(minimum, maximum)  # Imprime los dos valores: primero el mínimo, luego el máximo\n"
      ]
    },
    {
      "cell_type": "code",
      "execution_count": 104,
      "metadata": {},
      "outputs": [
        {
          "name": "stdout",
          "output_type": "stream",
          "text": [
            "El área del rectángulo es: 120\n"
          ]
        }
      ],
      "source": [
        "# Función que calcula el área de un rectángulo\n",
        "def area_of_rectangle(length, width):\n",
        "    \"\"\"\n",
        "    Calcula el área de un rectángulo.\n",
        "\n",
        "    Argumentos:\n",
        "        length (float): El largo del rectángulo.\n",
        "        width (float): El ancho del rectángulo.\n",
        "\n",
        "    Retorna:\n",
        "        float: El área del rectángulo.\n",
        "    \"\"\"\n",
        "    return length * width\n",
        "\n",
        "# Solicitar datos al usuario\n",
        "largo = 12 #Largo del rectangulo \n",
        "ancho = 10 #Ancho del rectangulo\n",
        "\n",
        "# Calcular el área\n",
        "area = area_of_rectangle(largo, ancho)\n",
        "\n",
        "# Mostrar el resultado\n",
        "print(\"El área del rectángulo es:\", area)\n",
        "\n"
      ]
    },
    {
      "cell_type": "code",
      "execution_count": 105,
      "metadata": {},
      "outputs": [
        {
          "name": "stdout",
          "output_type": "stream",
          "text": [
            "Buddy está ladrando!\n"
          ]
        }
      ],
      "source": [
        "# Creando una clase simple\n",
        "\n",
        "class Dog:  # Se define una clase llamada Dog (Perro)\n",
        "\n",
        "    def __init__(self, name, age):  # Método especial que se ejecuta al crear un objeto de esta clase\n",
        "        self.name = name  # Se guarda el nombre del perro en una variable de instancia\n",
        "        self.age = age    # Se guarda la edad del perro\n",
        "\n",
        "    def bark(self):  # Método que hace que el perro \"ladre\"\n",
        "        print(f\"{self.name} está ladrando!\")  # Imprime un mensaje usando el nombre del perro\n",
        "\n",
        "# Crear una instancia (objeto) de la clase Dog\n",
        "dog1 = Dog(\"Buddy\", 3)  # Se crea un perro llamado \"Buddy\" de 3 años\n",
        "dog1.bark()  # Llama al método bark() -> imprime: \"Buddy está ladrando!\"\n"
      ]
    },
    {
      "cell_type": "code",
      "execution_count": 106,
      "metadata": {},
      "outputs": [
        {
          "name": "stdout",
          "output_type": "stream",
          "text": [
            "El promedio de Alicia es: 88.5\n"
          ]
        }
      ],
      "source": [
        "#  Agregando métodos y atributos\n",
        "class Estudiante:\n",
        "    def __init__(self, nombre, edad):  # Constructor que recibe nombre y edad\n",
        "        self.nombre = nombre           # Atributo nombre\n",
        "        self.edad = edad               # Atributo edad\n",
        "        self.notas = []                # Lista vacía para almacenar las calificaciones\n",
        "\n",
        "    def agregar_nota(self, nota):      # Método para agregar una nota\n",
        "        self.notas.append(nota)\n",
        "\n",
        "    def obtener_promedio(self):        # Método para calcular el promedio\n",
        "        return sum(self.notas) / len(self.notas)\n",
        "\n",
        "# Crear una instancia de Estudiante y agregar notas\n",
        "estudiante1 = Estudiante(\"Alicia\", 18)\n",
        "estudiante1.agregar_nota(85)\n",
        "estudiante1.agregar_nota(92)\n",
        "\n",
        "promedio = estudiante1.obtener_promedio()\n",
        "print(f\"El promedio de {estudiante1.nombre} es: {promedio}\")\n"
      ]
    },
    {
      "cell_type": "code",
      "execution_count": 107,
      "metadata": {},
      "outputs": [
        {
          "name": "stdout",
          "output_type": "stream",
          "text": [
            "Bigotes dice ¡Miau!\n",
            "Buddy dice ¡Guau!\n"
          ]
        }
      ],
      "source": [
        "# Herencia\n",
        "class Animal:  # Clase base (padre)\n",
        "    def __init__(self, nombre):  # Constructor que recibe un nombre\n",
        "        self.nombre = nombre\n",
        "\n",
        "    def hablar(self):  # Método que será sobrescrito por las subclases\n",
        "        pass  # No hace nada aquí, se espera que las subclases lo implementen\n",
        "\n",
        "class Gato(Animal):  # Clase Gato hereda de Animal\n",
        "    def hablar(self):\n",
        "        print(f\"{self.nombre} dice ¡Miau!\")\n",
        "\n",
        "class Perro(Animal):  # Clase Perro hereda de Animal\n",
        "    def hablar(self):\n",
        "        print(f\"{self.nombre} dice ¡Guau!\")\n",
        "\n",
        "# Crear instancias de Gato y Perro\n",
        "gato = Gato(\"Bigotes\")\n",
        "perro = Perro(\"Buddy\")\n",
        "\n",
        "gato.hablar()  # Salida: Bigotes dice ¡Miau!\n",
        "perro.hablar()  # Salida: Buddy dice ¡Guau!\n"
      ]
    },
    {
      "cell_type": "code",
      "execution_count": 108,
      "metadata": {},
      "outputs": [
        {
          "name": "stdout",
          "output_type": "stream",
          "text": [
            "1\n",
            "[7 1 9]\n",
            "[ 3  7  1 12  5]\n"
          ]
        }
      ],
      "source": [
        "# 3.1 Indexación de matrices en NumPy\n",
        "\n",
        "# Crear un arreglo de NumPy con los valores dados\n",
        "arr = np.array([3, 7, 1, 9, 5])\n",
        "\n",
        "# a) Recuperar el tercer elemento del arreglo (índice 2, ya que se empieza desde 0)\n",
        "print(arr[2])  # Imprime: 1\n",
        "\n",
        "# b) Obtener una porción del arreglo desde el índice 1 al 3 (el 4 no se incluye)\n",
        "print(arr[1:4])  # Imprime: [7 1 9]\n",
        "\n",
        "# c) Cambiar el valor del cuarto elemento (índice 3) a 12\n",
        "arr[3] = 12\n",
        "print(arr)  # Imprime: [3 7 1 12 5]\n"
      ]
    },
    {
      "cell_type": "code",
      "execution_count": 109,
      "metadata": {},
      "outputs": [
        {
          "name": "stdout",
          "output_type": "stream",
          "text": [
            "Elemento en la segunda fila, tercera columna: 6\n",
            "Submatriz (primeras dos filas, todas las columnas):\n",
            "[[1 2 3]\n",
            " [4 5 6]]\n"
          ]
        }
      ],
      "source": [
        "# 3.2 Indexación de matrices en NumPy\n",
        "\n",
        "# Crear la matriz 2D\n",
        "matriz = np.array([\n",
        "    [1, 2, 3],\n",
        "    [4, 5, 6],\n",
        "    [7, 8, 9]\n",
        "])\n",
        "\n",
        "# a) Obtener el elemento en la segunda fila y tercera columna\n",
        "elemento = matriz[1, 2]\n",
        "print(\"Elemento en la segunda fila, tercera columna:\", elemento)\n",
        "\n",
        "# b) Obtener una submatriz con las dos primeras filas y todas las columnas\n",
        "submatriz = matriz[0:2, :]\n",
        "print(\"Submatriz (primeras dos filas, todas las columnas):\")\n",
        "print(submatriz)\n"
      ]
    },
    {
      "cell_type": "code",
      "execution_count": 110,
      "metadata": {},
      "outputs": [
        {
          "name": "stdout",
          "output_type": "stream",
          "text": [
            "[[[ 1  2  3  4]\n",
            "  [ 5  6  7  8]\n",
            "  [ 9 10 11 12]]\n",
            "\n",
            " [[13 14 15 16]\n",
            "  [17 18 19 20]\n",
            "  [21 22 23 24]]\n",
            "\n",
            " [[25 26 27 28]\n",
            "  [29 30 31 32]\n",
            "  [33 34 35 36]]]\n",
            "1) tensor[1, 0, 2] = 15\n",
            "2) Segunda matriz completa (tensor[1]):\n",
            "[[13 14 15 16]\n",
            " [17 18 19 20]\n",
            " [21 22 23 24]]\n",
            "3) Última fila de las dos últimas matrices (tensor[1:, 2, :]):\n",
            "[[21 22 23 24]\n",
            " [33 34 35 36]]\n",
            "4) tensor[2, 1, 3] = 32\n",
            "5) Primera fila de las dos últimas matrices (tensor[1:, 0, :]):\n",
            "[[13 14 15 16]\n",
            " [25 26 27 28]]\n"
          ]
        }
      ],
      "source": [
        "# 3.2 Indexación y segmentación de tensores de dimensiones superiores\n",
        "\n",
        "tensor = np.arange(1, 37).reshape(3, 3, 4)  # Cre un tensor del 1 al 36 con la siguiente forma:\n",
        "# 3 bloques, 3 matrices por bloque, 4 columnas\n",
        "print(tensor)\n",
        "\n",
        "print(\"1) tensor[1, 0, 2] =\", tensor[1, 0, 2])  # Elemento en la posición [1,0,2], Resultado: 15\n",
        "print(\"2) Segunda matriz completa (tensor[1]):\") # segunda matriz completa\n",
        "print(tensor[1])\n",
        "print(\"3) Última fila de las dos últimas matrices (tensor[1:, 2, :]):\")\n",
        "print(tensor[1:, 2, :]) #utima fila de las dos ultima matrices\n",
        "print(\"4) tensor[2, 1, 3] =\", tensor[2, 1, 3])  # Elemento en la posición [2,1,3], Resultado: 32\n",
        "print(\"5) Primera fila de las dos últimas matrices (tensor[1:, 0, :]):\")\n",
        "print(tensor[1:, 0, :]) # primera fila de las dos ultimas matrices\n",
        "\n",
        "\n"
      ]
    },
    {
      "cell_type": "code",
      "execution_count": 111,
      "metadata": {},
      "outputs": [
        {
          "name": "stdout",
          "output_type": "stream",
          "text": [
            "Promedio: 18.0\n",
            "5 al cuadrado: 25\n",
            "3 al cubo: 27\n"
          ]
        }
      ],
      "source": [
        "# 3.3 Definición de funciones en Python\n",
        "# 1 Calcular el promedio \n",
        "\n",
        "def calcular_promedio(numeros):\n",
        "    if len(numeros) == 0:\n",
        "        return 0  # Evita la división por cero\n",
        "    return sum(numeros) / len(numeros)\n",
        "\n",
        "# Ejemplo de uso\n",
        "lista = [4, 8, 15, 16, 23, 42]\n",
        "promedio = calcular_promedio(lista)\n",
        "print(\"Promedio:\", promedio)\n",
        "\n",
        "#2 Hallar potencia\n",
        "\n",
        "def elevar_potencia(base, exponente=2):\n",
        "    return base ** exponente\n",
        "\n",
        "# Ejemplos de uso\n",
        "print(\"5 al cuadrado:\", elevar_potencia(5))        # Usa el valor por defecto (2)\n",
        "print(\"3 al cubo:\", elevar_potencia(3, 3))         # Especifica el exponente como 3\n",
        "\n"
      ]
    },
    {
      "cell_type": "code",
      "execution_count": 112,
      "metadata": {},
      "outputs": [
        {
          "name": "stdout",
          "output_type": "stream",
          "text": [
            "Parámetros finales:\n",
            "theta0 (intersección): 0.6987\n",
            "theta1 (pendiente): 2.5004\n"
          ]
        }
      ],
      "source": [
        "# 3.4 Implementación de la optimización del descenso de gradiente\n",
        "# Implementación de descenso por gradiente en regresión lineal\n",
        "\n",
        "import matplotlib.pyplot as plt\n",
        "\n",
        "# Datos de entrada\n",
        "X = np.array([1, 2, 3, 4, 5])\n",
        "y = np.array([3, 6, 8, 11, 13])\n",
        "\n",
        "# Parámetros iniciales\n",
        "theta0 = 0.0  # Intersección\n",
        "theta1 = 0.0  # Pendiente\n",
        "\n",
        "# Hiperparámetros\n",
        "alpha = 0.01     # Tasa de aprendizaje\n",
        "epochs = 1000    # Número de iteraciones\n",
        "\n",
        "# Para guardar el historial de los parámetros\n",
        "theta0_hist = []\n",
        "theta1_hist = []\n",
        "\n",
        "# Descenso por gradiente\n",
        "m = len(X)  # Número de datos\n",
        "for i in range(epochs):\n",
        "    # Predicción del modelo: h_theta(x) = theta0 + theta1 * x\n",
        "    y_pred = theta0 + theta1 * X\n",
        "    \n",
        "    # Cálculo del error\n",
        "    error = y_pred - y\n",
        "    \n",
        "    # Gradientes\n",
        "    d_theta0 = (1/m) * np.sum(error)\n",
        "    d_theta1 = (1/m) * np.sum(error * X)\n",
        "    \n",
        "    # Actualización de los parámetros\n",
        "    theta0 -= alpha * d_theta0\n",
        "    theta1 -= alpha * d_theta1\n",
        "    \n",
        "    # Guardar los valores de theta en cada iteración\n",
        "    theta0_hist.append(theta0)\n",
        "    theta1_hist.append(theta1)\n",
        "\n",
        "# Resultado final\n",
        "print(f\"Parámetros finales:\")\n",
        "print(f\"theta0 (intersección): {theta0:.4f}\")\n",
        "print(f\"theta1 (pendiente): {theta1:.4f}\")\n"
      ]
    },
    {
      "cell_type": "code",
      "execution_count": 113,
      "metadata": {},
      "outputs": [
        {
          "data": {
            "image/png": "[encoded data removed]",
            "text/plain": [
              "<Figure size 1000x600 with 1 Axes>"
            ]
          },
          "metadata": {},
          "output_type": "display_data"
        }
      ],
      "source": [
        "# Gráficas del progreso de θ₀ y θ₁\n",
        "\n",
        "plt.figure(figsize=(10, 6))\n",
        "plt.plot(range(epochs), theta0_hist, label='θ₀ (intersección)', color='blue')\n",
        "plt.plot(range(epochs), theta1_hist, label='θ₁ (pendiente)', color='green')\n",
        "plt.xlabel('Iteración')\n",
        "plt.ylabel('Valor del parámetro')\n",
        "plt.title('Progreso de θ₀ y θ₁ durante el descenso por gradiente')\n",
        "plt.legend()\n",
        "plt.grid(True)\n",
        "plt.tight_layout()\n",
        "plt.show()\n",
        "\n"
      ]
    },
    {
      "cell_type": "code",
      "execution_count": 114,
      "metadata": {},
      "outputs": [
        {
          "data": {
            "text/plain": [
              "'\"\\nLa tasa de aprendizaje (alpha) controla qué tan grandes son los pasos que da el algoritmo durante la optimización,\\nes decir, Si alpha es muy pequeño, el descenso por gradiente será muy lento y tardará mucho en converger y si\\n alpha es muy grande, puede que los pasos sean tan grandes que el algoritmo nunca converja. Por lo tanto, es fundamental\\n elegir un alpha apropiado.\\n'"
            ]
          },
          "execution_count": 114,
          "metadata": {},
          "output_type": "execute_result"
        }
      ],
      "source": [
        "# Explicación de la tasa de aprendizaje\n",
        "\"\"\"\"\n",
        "La tasa de aprendizaje (alpha) controla qué tan grandes son los pasos que da el algoritmo durante la optimización,\n",
        "es decir, Si alpha es muy pequeño, el descenso por gradiente será muy lento y tardará mucho en converger y si\n",
        " alpha es muy grande, puede que los pasos sean tan grandes que el algoritmo nunca converja. Por lo tanto, es fundamental\n",
        " elegir un alpha apropiado.\n",
        "\"\"\""
      ]
    }
  ],
  "metadata": {
    "colab": {
      "provenance": []
    },
    "kernelspec": {
      "display_name": "Python 3",
      "name": "python3"
    },
    "language_info": {
      "codemirror_mode": {
        "name": "ipython",
        "version": 3
      },
      "file_extension": ".py",
      "mimetype": "text/x-python",
      "name": "python",
      "nbconvert_exporter": "python",
      "pygments_lexer": "ipython3",
      "version": "3.10.0"
    }
  },
  "nbformat": 4,
  "nbformat_minor": 0
}
